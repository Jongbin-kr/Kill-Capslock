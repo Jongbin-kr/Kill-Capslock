{
 "cells": [
  {
   "cell_type": "code",
   "execution_count": 36,
   "metadata": {},
   "outputs": [
    {
     "data": {
      "text/plain": [
       "['9강_Passive.md',\n",
       " 'obsidian_frontmatter_creator.ipynb',\n",
       " '논문_데이터_구축작업',\n",
       " '파일명_정규화.ipynb',\n",
       " '파일명_정규화.py']"
      ]
     },
     "execution_count": 36,
     "metadata": {},
     "output_type": "execute_result"
    }
   ],
   "source": [
    "import os\n",
    "\n",
    "path = os.getcwd()\n",
    "file_list = os.listdir(path)\n",
    "file_list"
   ]
  },
  {
   "cell_type": "code",
   "execution_count": 37,
   "metadata": {},
   "outputs": [],
   "source": [
    "md_files = [x for x in file_list if x.endswith(\".md\") == True]\n",
    "txt_files = [x for x in file_list if x.endswith(\".txt\") == True]\n",
    "\n",
    "frontmatter = '''---\n",
    "tags: [언어학]\n",
    "---\n",
    "\n",
    "'''\n"
   ]
  },
  {
   "cell_type": "code",
   "execution_count": 38,
   "metadata": {},
   "outputs": [],
   "source": [
    "## txt 파일로 변환\n",
    "for file in md_files:\n",
    "    os.rename(file, file.partition('.')[0] + '.txt')\n"
   ]
  },
  {
   "cell_type": "code",
   "execution_count": 39,
   "metadata": {},
   "outputs": [
    {
     "data": {
      "text/plain": [
       "['9강_Passive.txt']"
      ]
     },
     "execution_count": 39,
     "metadata": {},
     "output_type": "execute_result"
    }
   ],
   "source": [
    "file_list = os.listdir(path)\n",
    "txt_files = [x for x in file_list if x.endswith(\".txt\") == True]\n",
    "txt_files"
   ]
  },
  {
   "cell_type": "code",
   "execution_count": 40,
   "metadata": {},
   "outputs": [],
   "source": [
    "for file in txt_files:\n",
    "    original_txt = open(file, encoding='utf8').read()\n",
    "    new_text = frontmatter + original_txt\n",
    "    open(file, 'w', encoding='utf8').write(new_text)"
   ]
  },
  {
   "cell_type": "code",
   "execution_count": 41,
   "metadata": {},
   "outputs": [],
   "source": [
    "for file in txt_files:\n",
    "    os.rename(file, file.partition('.')[0] + '.md')\n"
   ]
  }
 ],
 "metadata": {
  "kernelspec": {
   "display_name": "Python 3.10.6 64-bit",
   "language": "python",
   "name": "python3"
  },
  "language_info": {
   "codemirror_mode": {
    "name": "ipython",
    "version": 3
   },
   "file_extension": ".py",
   "mimetype": "text/x-python",
   "name": "python",
   "nbconvert_exporter": "python",
   "pygments_lexer": "ipython3",
   "version": "3.10.6"
  },
  "orig_nbformat": 4,
  "vscode": {
   "interpreter": {
    "hash": "4afb0e4cf0ccb304fcfd6d7aabde069b35f9fca2102756c46539c1049f0d322d"
   }
  }
 },
 "nbformat": 4,
 "nbformat_minor": 2
}
