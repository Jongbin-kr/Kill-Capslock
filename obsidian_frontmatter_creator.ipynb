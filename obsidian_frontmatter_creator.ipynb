{
 "cells": [
  {
   "cell_type": "code",
   "execution_count": 3,
   "metadata": {},
   "outputs": [
    {
     "name": "stdout",
     "output_type": "stream",
     "text": [
      "['0_obsidian_attachments', '10강 Embedded Clauses in Korean.md', '11강 Case marking(~격 표시).md', '12강 negation, negation polarity.md', '13강 tense and aspect.md', '14장_Predicate Construction & Korean Modality.md', '15강_NPI의 다양한 현상들.md', '16장_Reduction Phenomena in Korean & Sentence Typ.md', '17장_Speech Style Shift & Referemce Honorific.md', '18장_대용과 결속(Pronouns, reflexoves).md', '19장_Information structure & Topic marker.md', '20장_Semantics & Set theory 기초개념.md', '21강_Set theory Denotation & Meaning in Words, Se.md', '22강_Semantic type & Compositionality for Natural.md', '23강_Two place predicates & Lambda Calculus.md', '2강 언어 언어학 & Yale Romanazation.md', '3강 Morphology.md', '4강 Morphemes and word structure.md', '5강 More morphemes in Korean & Syntax.md', '6강 Constituency and Hierarchial Trees.md', '7강 Causation.md', '8강 한국어의 문장들(6 level).md', '9강 Passive.md', 'Glosses 총정리', 'Glosses 총정리.md', 'Untitled 1.png', 'Untitled 2.png', 'Untitled.png', '연습문제', '연습문제.md']\n"
     ]
    }
   ],
   "source": [
    "import os\n",
    "\n",
    "path = r\"C:\\Users\\dieyo\\Desktop\\export\\Study & Thoughts\\2021-1\\언어학 강독I_강아름\"\n",
    "file_list = os.listdir(path)\n",
    "print(file_list)\n",
    "\n",
    "\n",
    "md_files = [x for x in file_list if x.endswith(\".md\") == True]\n",
    "txt_files = [x for x in file_list if x.endswith(\".txt\") == True]\n",
    "\n",
    "\n",
    "frontmatter = '''---\n",
    "tags: 언어학\n",
    "---\n",
    "\n",
    "'''\n"
   ]
  },
  {
   "cell_type": "code",
   "execution_count": 4,
   "metadata": {},
   "outputs": [],
   "source": [
    "## txt 파일로 변환\n",
    "md_files = [x for x in file_list if x.endswith(\".md\") == True]\n",
    "for file in md_files:\n",
    "    file = path + '\\\\' + file\n",
    "    os.rename(file, file.partition('.')[0] + '.txt')\n",
    "\n",
    "\n",
    "## frontmatter prepend\n",
    "file_list = os.listdir(path) ## reload file_list\n",
    "txt_files = [x for x in file_list if x.endswith(\".txt\") == True]\n",
    "\n",
    "for file in txt_files:\n",
    "    file = path + '\\\\' + file\n",
    "    original_txt = open(file, encoding='utf8').read()\n",
    "    new_text = frontmatter + original_txt\n",
    "    open(file, 'w', encoding='utf8').write(new_text)\n",
    "\n",
    "\n",
    "## re-convert txt to markdown\n",
    "for file in txt_files:\n",
    "    file = path + '\\\\' + file\n",
    "    os.rename(file, file.partition('.')[0] + '.md')\n"
   ]
  }
 ],
 "metadata": {
  "kernelspec": {
   "display_name": "Python 3.10.6 64-bit",
   "language": "python",
   "name": "python3"
  },
  "language_info": {
   "codemirror_mode": {
    "name": "ipython",
    "version": 3
   },
   "file_extension": ".py",
   "mimetype": "text/x-python",
   "name": "python",
   "nbconvert_exporter": "python",
   "pygments_lexer": "ipython3",
   "version": "3.10.6"
  },
  "orig_nbformat": 4,
  "vscode": {
   "interpreter": {
    "hash": "4afb0e4cf0ccb304fcfd6d7aabde069b35f9fca2102756c46539c1049f0d322d"
   }
  }
 },
 "nbformat": 4,
 "nbformat_minor": 2
}
