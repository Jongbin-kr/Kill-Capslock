{
 "cells": [
  {
   "cell_type": "code",
   "execution_count": 1,
   "metadata": {},
   "outputs": [],
   "source": [
    "import os\n",
    "import re"
   ]
  },
  {
   "cell_type": "markdown",
   "metadata": {},
   "source": [
    "### 폴더를 순회해볼까?"
   ]
  },
  {
   "cell_type": "code",
   "execution_count": 1,
   "metadata": {},
   "outputs": [
    {
     "ename": "SyntaxError",
     "evalue": "expected ':' (861170442.py, line 5)",
     "output_type": "error",
     "traceback": [
      "\u001b[1;36m  Cell \u001b[1;32mIn [1], line 5\u001b[1;36m\u001b[0m\n\u001b[1;33m    if re.search('')\u001b[0m\n\u001b[1;37m                    ^\u001b[0m\n\u001b[1;31mSyntaxError\u001b[0m\u001b[1;31m:\u001b[0m expected ':'\n"
     ]
    }
   ],
   "source": [
    "origin_path = \"C:\\Export\"\n",
    "origin_list = os.listdir(origin_path)\n",
    "\n",
    "for x in origin_list:\n",
    "    if re.search('')"
   ]
  },
  {
   "cell_type": "markdown",
   "metadata": {},
   "source": [
    "### setting and result"
   ]
  },
  {
   "cell_type": "code",
   "execution_count": 8,
   "metadata": {},
   "outputs": [],
   "source": [
    "## set variables\n",
    "file_path = r\"D:\\OneDrive - 고려대학교\\998_지난 학기들\\2021_1\\1. 일반언어학\\발표_준비\"\n",
    "file_names = os.listdir(file_path)\n",
    "file_names\n",
    "\n",
    "attach_dir = os.path.join(file_path, '0_obsidian_attachments')\n",
    "try:\n",
    "    if not os.path.exists(attach_dir):\n",
    "        os.makedirs(attach_dir)\n",
    "except:\n",
    "    print(\"ALREADY EXIST!!\")"
   ]
  },
  {
   "cell_type": "markdown",
   "metadata": {},
   "source": [
    "### space -> _"
   ]
  },
  {
   "cell_type": "code",
   "execution_count": 6,
   "metadata": {},
   "outputs": [
    {
     "data": {
      "text/plain": [
       "['20세기_전반부_요약_560bc34422be4e6fbcc63304cb10ba0d.md',\n",
       " '20세기_후반부_390쪽~_268d549a4c25417cb01f0643b4a81d59.md',\n",
       " '내꺼_자료_조사_5a26474066474098a3b9dda595e59725.md',\n",
       " '목차_및_역할배분_f800733f882f405ba9908e4f2960e809.md',\n",
       " '스크립트_c157228ae40b403693ec9638bb5b3a9c',\n",
       " '스크립트_c157228ae40b403693ec9638bb5b3a9c.md',\n",
       " '현대_언어학의_연구_동향_60ec25e0385641b7a8ad41668c9aa96e',\n",
       " '현대_언어학의_연구_동향_60ec25e0385641b7a8ad41668c9aa96e.md',\n",
       " '회의_6b4afd8d04fa400d97b88b0933d6b476.md']"
      ]
     },
     "execution_count": 6,
     "metadata": {},
     "output_type": "execute_result"
    }
   ],
   "source": [
    "## space -> _\n",
    "for name in file_names:\n",
    "    src = os.path.join(file_path, name)\n",
    "    new_name = name.replace(\" \", \"_\")\n",
    "    dst = os.path.join(file_path, new_name)\n",
    "    os.rename(src, dst)\n",
    "    \n",
    "file_names = os.listdir(file_path)\n",
    "file_names"
   ]
  },
  {
   "cell_type": "markdown",
   "metadata": {},
   "source": [
    "## remove notion page ID"
   ]
  },
  {
   "cell_type": "code",
   "execution_count": 7,
   "metadata": {},
   "outputs": [
    {
     "name": "stdout",
     "output_type": "stream",
     "text": [
      "['20세기_전반부_요약_560bc34422be4e6fbcc63304cb10ba0d.md', '20세기_후반부_390쪽~_268d549a4c25417cb01f0643b4a81d59.md', '내꺼_자료_조사_5a26474066474098a3b9dda595e59725.md', '목차_및_역할배분_f800733f882f405ba9908e4f2960e809.md', '스크립트_c157228ae40b403693ec9638bb5b3a9c.md', '현대_언어학의_연구_동향_60ec25e0385641b7a8ad41668c9aa96e.md', '회의_6b4afd8d04fa400d97b88b0933d6b476.md']\n",
      "['스크립트_c157228ae40b403693ec9638bb5b3a9c', '현대_언어학의_연구_동향_60ec25e0385641b7a8ad41668c9aa96e']\n",
      "before:  20세기_전반부_요약_560bc34422be4e6fbcc63304cb10ba0d.md\n",
      "after:  20세기_전반부_요약.md \n",
      "\n",
      "before:  20세기_후반부_390쪽~_268d549a4c25417cb01f0643b4a81d59.md\n",
      "after:  20세기_후반부_390쪽~.md \n",
      "\n",
      "before:  내꺼_자료_조사_5a26474066474098a3b9dda595e59725.md\n",
      "after:  내꺼_자료_조사.md \n",
      "\n",
      "before:  목차_및_역할배분_f800733f882f405ba9908e4f2960e809.md\n",
      "after:  목차_및_역할배분.md \n",
      "\n",
      "before:  스크립트_c157228ae40b403693ec9638bb5b3a9c.md\n",
      "after:  스크립트.md \n",
      "\n",
      "before:  현대_언어학의_연구_동향_60ec25e0385641b7a8ad41668c9aa96e.md\n",
      "after:  현대_언어학의_연구_동향.md \n",
      "\n",
      "before:  회의_6b4afd8d04fa400d97b88b0933d6b476.md\n",
      "after:  회의.md \n",
      "\n",
      "before:  스크립트_c157228ae40b403693ec9638bb5b3a9c\n",
      "after:  스크립트 \n",
      "\n",
      "before:  현대_언어학의_연구_동향_60ec25e0385641b7a8ad41668c9aa96e\n",
      "after:  현대_언어학의_연구_동향 \n",
      "\n"
     ]
    }
   ],
   "source": [
    "## reload file names\n",
    "file_names = os.listdir(file_path)\n",
    "\n",
    "## for markdown files\n",
    "md_names = [x for x in file_names if x.endswith(\".md\")]\n",
    "print(md_names)\n",
    "\n",
    "## for folders\n",
    "folder_names = [x for x in file_names if x.endswith(\".md\") == False]\n",
    "print(folder_names)\n",
    "\n",
    "\n",
    "for name in md_names:\n",
    "    print(\"before: \", name)\n",
    "    try:\n",
    "        pat = \"(.+?)(_[a-z0-9]{32})(.md)\"\n",
    "        src = os.path.join(file_path, name)\n",
    "        new_name = ''.join(re.search(pat, name).group(1,3))\n",
    "        dst = os.path.join(file_path, new_name)\n",
    "        os.rename(src, dst)\n",
    "        print(\"after: \",new_name, '\\n')\n",
    "        \n",
    "    except:\n",
    "        print(\"!error: \",new_name, '\\n')\n",
    "\n",
    "\n",
    "for name in folder_names:\n",
    "    print(\"before: \", name)\n",
    "    try:\n",
    "        pat = \"(.+?)(_[a-z0-9]{32})\"\n",
    "        src = os.path.join(file_path, name)\n",
    "        new_name = ''.join(re.search(pat, name).group(1))\n",
    "        dst = os.path.join(file_path, new_name)\n",
    "        os.rename(src, dst)\n",
    "        print(\"after: \", new_name, '\\n')\n",
    "        \n",
    "    except:\n",
    "        print(\"!error: \", new_name, \"\\n\")\n"
   ]
  }
 ],
 "metadata": {
  "kernelspec": {
   "display_name": "Python 3.10.6 64-bit",
   "language": "python",
   "name": "python3"
  },
  "language_info": {
   "codemirror_mode": {
    "name": "ipython",
    "version": 3
   },
   "file_extension": ".py",
   "mimetype": "text/x-python",
   "name": "python",
   "nbconvert_exporter": "python",
   "pygments_lexer": "ipython3",
   "version": "3.10.6"
  },
  "orig_nbformat": 4,
  "vscode": {
   "interpreter": {
    "hash": "4afb0e4cf0ccb304fcfd6d7aabde069b35f9fca2102756c46539c1049f0d322d"
   }
  }
 },
 "nbformat": 4,
 "nbformat_minor": 2
}
